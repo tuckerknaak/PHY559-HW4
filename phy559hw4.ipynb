{
 "cells": [
  {
   "cell_type": "code",
   "execution_count": 1,
   "metadata": {},
   "outputs": [],
   "source": [
    "#Imports\n",
    "import matplotlib.pyplot as plt\n",
    "import scipy.integrate as integrate\n",
    "from numpy import sqrt, linspace, log"
   ]
  },
  {
   "cell_type": "code",
   "execution_count": 2,
   "metadata": {},
   "outputs": [],
   "source": [
    "#Defining a function to return the argument of\n",
    "#the integral for the age of the universe\n",
    "def age_integral(a):\n",
    "    H0 = 71 / (3.086*10**19)  #Hubble constant [1 / seconds]\n",
    "    v0 = 0.73                 #cosmological constant density\n",
    "    m0 = 0.26992              #matter density\n",
    "    r0 = 0.00008              #radiation density\n",
    "    tot0 = v0 + m0 + r0       #total density\n",
    "    \n",
    "    return (1 / (H0 * sqrt((1-tot0) + (r0 / (a**2)) + (m0 / a) + (v0 * (a**2)))))\n",
    "\n",
    "\n",
    "#Defining a function to numerically evaluate the\n",
    "#integral for the age of the universe in seconds\n",
    "def compute_age(start, stop):\n",
    "    t0 = integrate.fixed_quad(age_integral, start, stop, n = 20)  #start, stop are the bounds of integration                                 #age of universe [seconds]\n",
    "    return t0[0]\n",
    "\n",
    "\n",
    "#Defining a function to calculate the deceleration parameter q\n",
    "def q(m, r, v):\n",
    "    return ((m / 2) + r - v)\n",
    "\n",
    "\n",
    "#Defining a function to calculate the curvature k\n",
    "def k(m, r, v):\n",
    "    H0 = 71 / (3.086*10**19)  #Hubble constant [1 / seconds]\n",
    "    a = 1  #current scale factor\n",
    "    tot = m + r + v\n",
    "    return ((H0**2) * (a**2) * (tot - 1))"
   ]
  },
  {
   "cell_type": "code",
   "execution_count": 3,
   "metadata": {},
   "outputs": [
    {
     "name": "stdout",
     "output_type": "stream",
     "text": [
      "Problem 1.a: The current age of the universe is 4.313E+17s, or 13.68 billion years!\n"
     ]
    }
   ],
   "source": [
    "#Printing the current age of universe\n",
    "print('Problem 1.a: The current age of the universe is','{:.3E}'.format(compute_age(0, 1))+'s, or'\n",
    "      ,str(round(compute_age(0, 1)*3.171*10**-17, 2))+' billion years!')"
   ]
  },
  {
   "cell_type": "code",
   "execution_count": 4,
   "metadata": {},
   "outputs": [
    {
     "name": "stdout",
     "output_type": "stream",
     "text": [
      "Problem 1.b: The age of the universe at the radiation-matter equality was 1.504E+12s, or 47681.75 years!\n"
     ]
    }
   ],
   "source": [
    "#Printing the age of the universe at the radiation-matter equality\n",
    "print('Problem 1.b: The age of the universe at the radiation-matter equality was','{:.3E}'.format(compute_age(0, 0.00028))+\n",
    "      's, or',str(round(compute_age(0, 0.00028)*3.171*10**-8, 2))+' years!')"
   ]
  },
  {
   "cell_type": "code",
   "execution_count": 5,
   "metadata": {},
   "outputs": [
    {
     "name": "stdout",
     "output_type": "stream",
     "text": [
      "Problem 1.c: The current deceleration parameter is q0 = -0.59496\n"
     ]
    }
   ],
   "source": [
    "#Current densities\n",
    "v0 = 0.73     #cosmological constant density\n",
    "m0 = 0.26992  #matter density\n",
    "r0 = 0.00008  #radiation density\n",
    "\n",
    "#Printing the deceleration parameter for our current densities\n",
    "print('Problem 1.c: The current deceleration parameter is q0 =',str(round(q(m0, r0, v0), 6)))"
   ]
  },
  {
   "cell_type": "code",
   "execution_count": 6,
   "metadata": {},
   "outputs": [
    {
     "name": "stdout",
     "output_type": "stream",
     "text": [
      "Problem 1.d: The current curvature is k = 0.0, which implies the universe is neither open nor closed!\n"
     ]
    }
   ],
   "source": [
    "#Printing the curvature for our current densities\n",
    "print('Problem 1.d: The current curvature is k =',str(k(m0, r0, v0))+',','which implies the universe is neither open nor closed!')"
   ]
  },
  {
   "cell_type": "code",
   "execution_count": 7,
   "metadata": {},
   "outputs": [
    {
     "data": {
      "image/png": "[encoded data removed]",
      "text/plain": [
       "<Figure size 576x360 with 1 Axes>"
      ]
     },
     "metadata": {
      "needs_background": "light"
     },
     "output_type": "display_data"
    }
   ],
   "source": [
    "#List of endpoints to evaluate for integral of the age of the universe\n",
    "stop_list = linspace(0.001, 100, 1000)\n",
    "\n",
    "\n",
    "#Loop to calculate age of the universe in terms of H0 for specific scale factors a\n",
    "loga_list = []\n",
    "H0t_list = []\n",
    "for stop in stop_list:\n",
    "    H0t_list.append(log(compute_age(0, stop)*3.171*10**-18))  #[billions of years]\n",
    "    loga_list.append(log(stop))\n",
    "    \n",
    "\n",
    "#Plotting the results\n",
    "fig, ax = plt.subplots(figsize = (8, 5))\n",
    "ax.plot(H0t_list, loga_list, linestyle = 'solid', color = 'red')\n",
    "ax.set_xlabel('log($H_0t$)', fontsize = 12)\n",
    "ax.set_ylabel('log($a$)', fontsize = 12)\n",
    "ax.set_title('Problem 1.e: Growth of Scale Factor $a(t)$ vs. Time $H_0t$', fontsize = 15)\n",
    "ax.grid(color = 'darkgray', linewidth = 0.5, linestyle = 'dashed')"
   ]
  },
  {
   "cell_type": "code",
   "execution_count": null,
   "metadata": {},
   "outputs": [],
   "source": []
  }
 ],
 "metadata": {
  "kernelspec": {
   "display_name": "Python 3 (ipykernel)",
   "language": "python",
   "name": "python3"
  },
  "language_info": {
   "codemirror_mode": {
    "name": "ipython",
    "version": 3
   },
   "file_extension": ".py",
   "mimetype": "text/x-python",
   "name": "python",
   "nbconvert_exporter": "python",
   "pygments_lexer": "ipython3",
   "version": "3.9.12"
  }
 },
 "nbformat": 4,
 "nbformat_minor": 2
}
